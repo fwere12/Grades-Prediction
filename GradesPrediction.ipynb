{
 "cells": [
  {
   "cell_type": "code",
   "execution_count": 2,
   "id": "af0e207f",
   "metadata": {},
   "outputs": [
    {
     "data": {
      "text/html": [
       "<div>\n",
       "<style scoped>\n",
       "    .dataframe tbody tr th:only-of-type {\n",
       "        vertical-align: middle;\n",
       "    }\n",
       "\n",
       "    .dataframe tbody tr th {\n",
       "        vertical-align: top;\n",
       "    }\n",
       "\n",
       "    .dataframe thead th {\n",
       "        text-align: right;\n",
       "    }\n",
       "</style>\n",
       "<table border=\"1\" class=\"dataframe\">\n",
       "  <thead>\n",
       "    <tr style=\"text-align: right;\">\n",
       "      <th></th>\n",
       "      <th>StudentID</th>\n",
       "      <th>Gender</th>\n",
       "      <th>Study_Hours</th>\n",
       "      <th>Attendance</th>\n",
       "      <th>Internet_Access</th>\n",
       "      <th>Test_Prep_Hours</th>\n",
       "      <th>Extracurriculars</th>\n",
       "      <th>Prev_Midterm_Grade</th>\n",
       "      <th>Prev_Final_Grade</th>\n",
       "      <th>Midterm_Grade</th>\n",
       "      <th>Final_Grade</th>\n",
       "    </tr>\n",
       "  </thead>\n",
       "  <tbody>\n",
       "    <tr>\n",
       "      <th>0</th>\n",
       "      <td>STU112</td>\n",
       "      <td>M</td>\n",
       "      <td>21.0</td>\n",
       "      <td>88</td>\n",
       "      <td>Y</td>\n",
       "      <td>5.0</td>\n",
       "      <td>N</td>\n",
       "      <td>B</td>\n",
       "      <td>B</td>\n",
       "      <td>B</td>\n",
       "      <td>B</td>\n",
       "    </tr>\n",
       "    <tr>\n",
       "      <th>1</th>\n",
       "      <td>STU119</td>\n",
       "      <td>M</td>\n",
       "      <td>14.0</td>\n",
       "      <td>78</td>\n",
       "      <td>Y</td>\n",
       "      <td>6.0</td>\n",
       "      <td>N</td>\n",
       "      <td>B</td>\n",
       "      <td>C</td>\n",
       "      <td>B</td>\n",
       "      <td>C</td>\n",
       "    </tr>\n",
       "    <tr>\n",
       "      <th>2</th>\n",
       "      <td>STU138</td>\n",
       "      <td>M</td>\n",
       "      <td>18.0</td>\n",
       "      <td>80</td>\n",
       "      <td>Y</td>\n",
       "      <td>NaN</td>\n",
       "      <td>N</td>\n",
       "      <td>C</td>\n",
       "      <td>C</td>\n",
       "      <td>C</td>\n",
       "      <td>C</td>\n",
       "    </tr>\n",
       "    <tr>\n",
       "      <th>3</th>\n",
       "      <td>STU154</td>\n",
       "      <td>F</td>\n",
       "      <td>16.0</td>\n",
       "      <td>70</td>\n",
       "      <td>Y</td>\n",
       "      <td>5.0</td>\n",
       "      <td>N</td>\n",
       "      <td>C</td>\n",
       "      <td>C</td>\n",
       "      <td>C</td>\n",
       "      <td>C</td>\n",
       "    </tr>\n",
       "    <tr>\n",
       "      <th>4</th>\n",
       "      <td>STU173</td>\n",
       "      <td>M</td>\n",
       "      <td>22.0</td>\n",
       "      <td>90</td>\n",
       "      <td>Y</td>\n",
       "      <td>5.0</td>\n",
       "      <td>NaN</td>\n",
       "      <td>B</td>\n",
       "      <td>C</td>\n",
       "      <td>A</td>\n",
       "      <td>B</td>\n",
       "    </tr>\n",
       "  </tbody>\n",
       "</table>\n",
       "</div>"
      ],
      "text/plain": [
       "  StudentID Gender  Study_Hours  Attendance Internet_Access  Test_Prep_Hours  \\\n",
       "0    STU112      M         21.0          88               Y              5.0   \n",
       "1    STU119      M         14.0          78               Y              6.0   \n",
       "2    STU138      M         18.0          80               Y              NaN   \n",
       "3    STU154      F         16.0          70               Y              5.0   \n",
       "4    STU173      M         22.0          90               Y              5.0   \n",
       "\n",
       "  Extracurriculars Prev_Midterm_Grade Prev_Final_Grade Midterm_Grade  \\\n",
       "0                N                  B                B             B   \n",
       "1                N                  B                C             B   \n",
       "2                N                  C                C             C   \n",
       "3                N                  C                C             C   \n",
       "4              NaN                  B                C             A   \n",
       "\n",
       "  Final_Grade  \n",
       "0           B  \n",
       "1           C  \n",
       "2           C  \n",
       "3           C  \n",
       "4           B  "
      ]
     },
     "execution_count": 2,
     "metadata": {},
     "output_type": "execute_result"
    }
   ],
   "source": [
    "import pandas as pd\n",
    "#Reading in our data\n",
    "df = pd.read_csv(\"C:\\\\Users\\\\Faith\\\\Downloads\\\\Grades_Prediction.csv\")\n",
    "df.head(5)"
   ]
  },
  {
   "cell_type": "code",
   "execution_count": 3,
   "id": "fc2835bc",
   "metadata": {},
   "outputs": [
    {
     "data": {
      "text/plain": [
       "(65, 11)"
      ]
     },
     "execution_count": 3,
     "metadata": {},
     "output_type": "execute_result"
    }
   ],
   "source": [
    "#Preview shape of dataset\n",
    "df.shape"
   ]
  },
  {
   "cell_type": "code",
   "execution_count": 4,
   "id": "31e04a65",
   "metadata": {},
   "outputs": [
    {
     "data": {
      "text/html": [
       "<div>\n",
       "<style scoped>\n",
       "    .dataframe tbody tr th:only-of-type {\n",
       "        vertical-align: middle;\n",
       "    }\n",
       "\n",
       "    .dataframe tbody tr th {\n",
       "        vertical-align: top;\n",
       "    }\n",
       "\n",
       "    .dataframe thead th {\n",
       "        text-align: right;\n",
       "    }\n",
       "</style>\n",
       "<table border=\"1\" class=\"dataframe\">\n",
       "  <thead>\n",
       "    <tr style=\"text-align: right;\">\n",
       "      <th></th>\n",
       "      <th>StudentID</th>\n",
       "      <th>Gender</th>\n",
       "      <th>Study_Hours</th>\n",
       "      <th>Attendance</th>\n",
       "      <th>Internet_Access</th>\n",
       "      <th>Test_Prep_Hours</th>\n",
       "      <th>Extracurriculars</th>\n",
       "      <th>Prev_Midterm_Grade</th>\n",
       "      <th>Prev_Final_Grade</th>\n",
       "      <th>Midterm_Grade</th>\n",
       "      <th>Final_Grade</th>\n",
       "    </tr>\n",
       "  </thead>\n",
       "  <tbody>\n",
       "    <tr>\n",
       "      <th>21</th>\n",
       "      <td>STU488</td>\n",
       "      <td>F</td>\n",
       "      <td>25.0</td>\n",
       "      <td>95</td>\n",
       "      <td>N</td>\n",
       "      <td>9.0</td>\n",
       "      <td>N</td>\n",
       "      <td>C</td>\n",
       "      <td>C</td>\n",
       "      <td>C</td>\n",
       "      <td>C</td>\n",
       "    </tr>\n",
       "    <tr>\n",
       "      <th>62</th>\n",
       "      <td>STU934</td>\n",
       "      <td>M</td>\n",
       "      <td>18.0</td>\n",
       "      <td>80</td>\n",
       "      <td>Y</td>\n",
       "      <td>5.0</td>\n",
       "      <td>NaN</td>\n",
       "      <td>C</td>\n",
       "      <td>C</td>\n",
       "      <td>C</td>\n",
       "      <td>C</td>\n",
       "    </tr>\n",
       "    <tr>\n",
       "      <th>31</th>\n",
       "      <td>STU587</td>\n",
       "      <td>M</td>\n",
       "      <td>16.0</td>\n",
       "      <td>80</td>\n",
       "      <td>Y</td>\n",
       "      <td>5.0</td>\n",
       "      <td>Y</td>\n",
       "      <td>D</td>\n",
       "      <td>D</td>\n",
       "      <td>D</td>\n",
       "      <td>D</td>\n",
       "    </tr>\n",
       "  </tbody>\n",
       "</table>\n",
       "</div>"
      ],
      "text/plain": [
       "   StudentID Gender  Study_Hours  Attendance Internet_Access  Test_Prep_Hours  \\\n",
       "21    STU488      F         25.0          95               N              9.0   \n",
       "62    STU934      M         18.0          80               Y              5.0   \n",
       "31    STU587      M         16.0          80               Y              5.0   \n",
       "\n",
       "   Extracurriculars Prev_Midterm_Grade Prev_Final_Grade Midterm_Grade  \\\n",
       "21                N                  C                C             C   \n",
       "62              NaN                  C                C             C   \n",
       "31                Y                  D                D             D   \n",
       "\n",
       "   Final_Grade  \n",
       "21           C  \n",
       "62           C  \n",
       "31           D  "
      ]
     },
     "execution_count": 4,
     "metadata": {},
     "output_type": "execute_result"
    }
   ],
   "source": [
    "df.sample(n=3)"
   ]
  },
  {
   "cell_type": "markdown",
   "id": "1f07cf65",
   "metadata": {},
   "source": [
    "# Exploratory Data Analysis(EDA)"
   ]
  },
  {
   "cell_type": "code",
   "execution_count": 5,
   "id": "139bcfb5",
   "metadata": {},
   "outputs": [
    {
     "data": {
      "text/html": [
       "<div>\n",
       "<style scoped>\n",
       "    .dataframe tbody tr th:only-of-type {\n",
       "        vertical-align: middle;\n",
       "    }\n",
       "\n",
       "    .dataframe tbody tr th {\n",
       "        vertical-align: top;\n",
       "    }\n",
       "\n",
       "    .dataframe thead th {\n",
       "        text-align: right;\n",
       "    }\n",
       "</style>\n",
       "<table border=\"1\" class=\"dataframe\">\n",
       "  <thead>\n",
       "    <tr style=\"text-align: right;\">\n",
       "      <th></th>\n",
       "      <th>Study_Hours</th>\n",
       "      <th>Attendance</th>\n",
       "      <th>Test_Prep_Hours</th>\n",
       "    </tr>\n",
       "  </thead>\n",
       "  <tbody>\n",
       "    <tr>\n",
       "      <th>count</th>\n",
       "      <td>57.000000</td>\n",
       "      <td>65.000000</td>\n",
       "      <td>56.000000</td>\n",
       "    </tr>\n",
       "    <tr>\n",
       "      <th>mean</th>\n",
       "      <td>18.842105</td>\n",
       "      <td>83.307692</td>\n",
       "      <td>6.017857</td>\n",
       "    </tr>\n",
       "    <tr>\n",
       "      <th>std</th>\n",
       "      <td>3.692606</td>\n",
       "      <td>7.262754</td>\n",
       "      <td>1.882852</td>\n",
       "    </tr>\n",
       "    <tr>\n",
       "      <th>min</th>\n",
       "      <td>12.000000</td>\n",
       "      <td>70.000000</td>\n",
       "      <td>3.000000</td>\n",
       "    </tr>\n",
       "    <tr>\n",
       "      <th>25%</th>\n",
       "      <td>16.000000</td>\n",
       "      <td>78.000000</td>\n",
       "      <td>4.750000</td>\n",
       "    </tr>\n",
       "    <tr>\n",
       "      <th>50%</th>\n",
       "      <td>18.000000</td>\n",
       "      <td>82.000000</td>\n",
       "      <td>6.000000</td>\n",
       "    </tr>\n",
       "    <tr>\n",
       "      <th>75%</th>\n",
       "      <td>22.000000</td>\n",
       "      <td>88.000000</td>\n",
       "      <td>8.000000</td>\n",
       "    </tr>\n",
       "    <tr>\n",
       "      <th>max</th>\n",
       "      <td>26.000000</td>\n",
       "      <td>97.000000</td>\n",
       "      <td>9.000000</td>\n",
       "    </tr>\n",
       "  </tbody>\n",
       "</table>\n",
       "</div>"
      ],
      "text/plain": [
       "       Study_Hours  Attendance  Test_Prep_Hours\n",
       "count    57.000000   65.000000        56.000000\n",
       "mean     18.842105   83.307692         6.017857\n",
       "std       3.692606    7.262754         1.882852\n",
       "min      12.000000   70.000000         3.000000\n",
       "25%      16.000000   78.000000         4.750000\n",
       "50%      18.000000   82.000000         6.000000\n",
       "75%      22.000000   88.000000         8.000000\n",
       "max      26.000000   97.000000         9.000000"
      ]
     },
     "execution_count": 5,
     "metadata": {},
     "output_type": "execute_result"
    }
   ],
   "source": [
    "#Summary Statistics\n",
    "df.describe()"
   ]
  },
  {
   "cell_type": "code",
   "execution_count": 6,
   "id": "2f3a6eeb",
   "metadata": {},
   "outputs": [
    {
     "data": {
      "text/plain": [
       "StudentID              object\n",
       "Gender                 object\n",
       "Study_Hours           float64\n",
       "Attendance              int64\n",
       "Internet_Access        object\n",
       "Test_Prep_Hours       float64\n",
       "Extracurriculars       object\n",
       "Prev_Midterm_Grade     object\n",
       "Prev_Final_Grade       object\n",
       "Midterm_Grade          object\n",
       "Final_Grade            object\n",
       "dtype: object"
      ]
     },
     "execution_count": 6,
     "metadata": {},
     "output_type": "execute_result"
    }
   ],
   "source": [
    "#Check the data type\n",
    "df.dtypes"
   ]
  },
  {
   "cell_type": "markdown",
   "id": "03a1a790",
   "metadata": {},
   "source": [
    "# Data Cleaning"
   ]
  },
  {
   "cell_type": "code",
   "execution_count": 8,
   "id": "5d59f6ef",
   "metadata": {},
   "outputs": [
    {
     "data": {
      "text/plain": [
       "3"
      ]
     },
     "execution_count": 8,
     "metadata": {},
     "output_type": "execute_result"
    }
   ],
   "source": [
    "#Checking for duplicate records\n",
    "df.duplicated().sum()"
   ]
  },
  {
   "cell_type": "markdown",
   "id": "9d28e0aa",
   "metadata": {},
   "source": [
    "3 records have been marked as duplicated, therefore we simply drop them."
   ]
  },
  {
   "cell_type": "code",
   "execution_count": 9,
   "id": "d000f605",
   "metadata": {},
   "outputs": [],
   "source": [
    "#Drop duplicates\n",
    "df.drop_duplicates(inplace=True)"
   ]
  },
  {
   "cell_type": "code",
   "execution_count": 11,
   "id": "f9b83d9b",
   "metadata": {},
   "outputs": [
    {
     "data": {
      "text/plain": [
       "(62, 11)"
      ]
     },
     "execution_count": 11,
     "metadata": {},
     "output_type": "execute_result"
    }
   ],
   "source": [
    "df.shape"
   ]
  },
  {
   "cell_type": "code",
   "execution_count": 12,
   "id": "ca3319a8",
   "metadata": {},
   "outputs": [
    {
     "data": {
      "text/plain": [
       "StudentID             0\n",
       "Gender                0\n",
       "Study_Hours           7\n",
       "Attendance            0\n",
       "Internet_Access       7\n",
       "Test_Prep_Hours       9\n",
       "Extracurriculars      5\n",
       "Prev_Midterm_Grade    0\n",
       "Prev_Final_Grade      6\n",
       "Midterm_Grade         0\n",
       "Final_Grade           0\n",
       "dtype: int64"
      ]
     },
     "execution_count": 12,
     "metadata": {},
     "output_type": "execute_result"
    }
   ],
   "source": [
    "#Checking for missing values in the dataset\n",
    "df.isnull().sum()"
   ]
  },
  {
   "cell_type": "code",
   "execution_count": 13,
   "id": "55d85a61",
   "metadata": {},
   "outputs": [
    {
     "data": {
      "text/html": [
       "<div>\n",
       "<style scoped>\n",
       "    .dataframe tbody tr th:only-of-type {\n",
       "        vertical-align: middle;\n",
       "    }\n",
       "\n",
       "    .dataframe tbody tr th {\n",
       "        vertical-align: top;\n",
       "    }\n",
       "\n",
       "    .dataframe thead th {\n",
       "        text-align: right;\n",
       "    }\n",
       "</style>\n",
       "<table border=\"1\" class=\"dataframe\">\n",
       "  <thead>\n",
       "    <tr style=\"text-align: right;\">\n",
       "      <th></th>\n",
       "      <th>StudentID</th>\n",
       "      <th>Gender</th>\n",
       "      <th>Study_Hours</th>\n",
       "      <th>Attendance</th>\n",
       "      <th>Internet_Access</th>\n",
       "      <th>Test_Prep_Hours</th>\n",
       "      <th>Extracurriculars</th>\n",
       "      <th>Prev_Midterm_Grade</th>\n",
       "      <th>Prev_Final_Grade</th>\n",
       "      <th>Midterm_Grade</th>\n",
       "      <th>Final_Grade</th>\n",
       "    </tr>\n",
       "  </thead>\n",
       "  <tbody>\n",
       "    <tr>\n",
       "      <th>2</th>\n",
       "      <td>STU138</td>\n",
       "      <td>M</td>\n",
       "      <td>18.0</td>\n",
       "      <td>80</td>\n",
       "      <td>Y</td>\n",
       "      <td>NaN</td>\n",
       "      <td>N</td>\n",
       "      <td>C</td>\n",
       "      <td>C</td>\n",
       "      <td>C</td>\n",
       "      <td>C</td>\n",
       "    </tr>\n",
       "    <tr>\n",
       "      <th>4</th>\n",
       "      <td>STU173</td>\n",
       "      <td>M</td>\n",
       "      <td>22.0</td>\n",
       "      <td>90</td>\n",
       "      <td>Y</td>\n",
       "      <td>5.0</td>\n",
       "      <td>NaN</td>\n",
       "      <td>B</td>\n",
       "      <td>C</td>\n",
       "      <td>A</td>\n",
       "      <td>B</td>\n",
       "    </tr>\n",
       "    <tr>\n",
       "      <th>8</th>\n",
       "      <td>STU267</td>\n",
       "      <td>M</td>\n",
       "      <td>15.0</td>\n",
       "      <td>78</td>\n",
       "      <td>NaN</td>\n",
       "      <td>4.0</td>\n",
       "      <td>N</td>\n",
       "      <td>C</td>\n",
       "      <td>D</td>\n",
       "      <td>C</td>\n",
       "      <td>C</td>\n",
       "    </tr>\n",
       "    <tr>\n",
       "      <th>11</th>\n",
       "      <td>STU345</td>\n",
       "      <td>F</td>\n",
       "      <td>18.0</td>\n",
       "      <td>80</td>\n",
       "      <td>N</td>\n",
       "      <td>NaN</td>\n",
       "      <td>N</td>\n",
       "      <td>D</td>\n",
       "      <td>D</td>\n",
       "      <td>D</td>\n",
       "      <td>D</td>\n",
       "    </tr>\n",
       "    <tr>\n",
       "      <th>12</th>\n",
       "      <td>STU362</td>\n",
       "      <td>M</td>\n",
       "      <td>23.0</td>\n",
       "      <td>92</td>\n",
       "      <td>Y</td>\n",
       "      <td>NaN</td>\n",
       "      <td>Y</td>\n",
       "      <td>D</td>\n",
       "      <td>D</td>\n",
       "      <td>C</td>\n",
       "      <td>C</td>\n",
       "    </tr>\n",
       "    <tr>\n",
       "      <th>18</th>\n",
       "      <td>STU436</td>\n",
       "      <td>F</td>\n",
       "      <td>21.0</td>\n",
       "      <td>88</td>\n",
       "      <td>Y</td>\n",
       "      <td>NaN</td>\n",
       "      <td>N</td>\n",
       "      <td>A</td>\n",
       "      <td>A</td>\n",
       "      <td>A</td>\n",
       "      <td>A</td>\n",
       "    </tr>\n",
       "    <tr>\n",
       "      <th>19</th>\n",
       "      <td>STU436</td>\n",
       "      <td>F</td>\n",
       "      <td>NaN</td>\n",
       "      <td>88</td>\n",
       "      <td>NaN</td>\n",
       "      <td>5.0</td>\n",
       "      <td>N</td>\n",
       "      <td>A</td>\n",
       "      <td>A</td>\n",
       "      <td>A</td>\n",
       "      <td>A</td>\n",
       "    </tr>\n",
       "    <tr>\n",
       "      <th>20</th>\n",
       "      <td>STU437</td>\n",
       "      <td>F</td>\n",
       "      <td>NaN</td>\n",
       "      <td>75</td>\n",
       "      <td>N</td>\n",
       "      <td>9.0</td>\n",
       "      <td>Y</td>\n",
       "      <td>C</td>\n",
       "      <td>NaN</td>\n",
       "      <td>C</td>\n",
       "      <td>C</td>\n",
       "    </tr>\n",
       "    <tr>\n",
       "      <th>25</th>\n",
       "      <td>STU517</td>\n",
       "      <td>F</td>\n",
       "      <td>NaN</td>\n",
       "      <td>85</td>\n",
       "      <td>Y</td>\n",
       "      <td>5.0</td>\n",
       "      <td>NaN</td>\n",
       "      <td>D</td>\n",
       "      <td>C</td>\n",
       "      <td>C</td>\n",
       "      <td>B</td>\n",
       "    </tr>\n",
       "    <tr>\n",
       "      <th>28</th>\n",
       "      <td>STU549</td>\n",
       "      <td>F</td>\n",
       "      <td>17.0</td>\n",
       "      <td>75</td>\n",
       "      <td>N</td>\n",
       "      <td>4.0</td>\n",
       "      <td>N</td>\n",
       "      <td>C</td>\n",
       "      <td>NaN</td>\n",
       "      <td>C</td>\n",
       "      <td>C</td>\n",
       "    </tr>\n",
       "    <tr>\n",
       "      <th>30</th>\n",
       "      <td>STU569</td>\n",
       "      <td>M</td>\n",
       "      <td>16.0</td>\n",
       "      <td>70</td>\n",
       "      <td>Y</td>\n",
       "      <td>NaN</td>\n",
       "      <td>Y</td>\n",
       "      <td>C</td>\n",
       "      <td>C</td>\n",
       "      <td>C</td>\n",
       "      <td>C</td>\n",
       "    </tr>\n",
       "    <tr>\n",
       "      <th>33</th>\n",
       "      <td>STU621</td>\n",
       "      <td>F</td>\n",
       "      <td>24.0</td>\n",
       "      <td>95</td>\n",
       "      <td>NaN</td>\n",
       "      <td>9.0</td>\n",
       "      <td>N</td>\n",
       "      <td>D</td>\n",
       "      <td>D</td>\n",
       "      <td>C</td>\n",
       "      <td>C</td>\n",
       "    </tr>\n",
       "    <tr>\n",
       "      <th>34</th>\n",
       "      <td>STU624</td>\n",
       "      <td>M</td>\n",
       "      <td>24.0</td>\n",
       "      <td>95</td>\n",
       "      <td>NaN</td>\n",
       "      <td>8.0</td>\n",
       "      <td>N</td>\n",
       "      <td>B</td>\n",
       "      <td>B</td>\n",
       "      <td>A</td>\n",
       "      <td>A</td>\n",
       "    </tr>\n",
       "    <tr>\n",
       "      <th>35</th>\n",
       "      <td>STU632</td>\n",
       "      <td>M</td>\n",
       "      <td>14.0</td>\n",
       "      <td>75</td>\n",
       "      <td>NaN</td>\n",
       "      <td>6.0</td>\n",
       "      <td>N</td>\n",
       "      <td>B</td>\n",
       "      <td>C</td>\n",
       "      <td>B</td>\n",
       "      <td>C</td>\n",
       "    </tr>\n",
       "    <tr>\n",
       "      <th>38</th>\n",
       "      <td>STU648</td>\n",
       "      <td>M</td>\n",
       "      <td>26.0</td>\n",
       "      <td>97</td>\n",
       "      <td>Y</td>\n",
       "      <td>9.0</td>\n",
       "      <td>Y</td>\n",
       "      <td>C</td>\n",
       "      <td>NaN</td>\n",
       "      <td>B</td>\n",
       "      <td>B</td>\n",
       "    </tr>\n",
       "    <tr>\n",
       "      <th>39</th>\n",
       "      <td>STU652</td>\n",
       "      <td>F</td>\n",
       "      <td>20.0</td>\n",
       "      <td>80</td>\n",
       "      <td>NaN</td>\n",
       "      <td>8.0</td>\n",
       "      <td>N</td>\n",
       "      <td>D</td>\n",
       "      <td>C</td>\n",
       "      <td>B</td>\n",
       "      <td>C</td>\n",
       "    </tr>\n",
       "    <tr>\n",
       "      <th>41</th>\n",
       "      <td>STU676</td>\n",
       "      <td>M</td>\n",
       "      <td>13.0</td>\n",
       "      <td>75</td>\n",
       "      <td>Y</td>\n",
       "      <td>4.0</td>\n",
       "      <td>Y</td>\n",
       "      <td>C</td>\n",
       "      <td>NaN</td>\n",
       "      <td>C</td>\n",
       "      <td>C</td>\n",
       "    </tr>\n",
       "    <tr>\n",
       "      <th>42</th>\n",
       "      <td>STU693</td>\n",
       "      <td>F</td>\n",
       "      <td>NaN</td>\n",
       "      <td>78</td>\n",
       "      <td>NaN</td>\n",
       "      <td>4.0</td>\n",
       "      <td>N</td>\n",
       "      <td>B</td>\n",
       "      <td>B</td>\n",
       "      <td>B</td>\n",
       "      <td>B</td>\n",
       "    </tr>\n",
       "    <tr>\n",
       "      <th>45</th>\n",
       "      <td>STU726</td>\n",
       "      <td>F</td>\n",
       "      <td>NaN</td>\n",
       "      <td>92</td>\n",
       "      <td>Y</td>\n",
       "      <td>8.0</td>\n",
       "      <td>NaN</td>\n",
       "      <td>D</td>\n",
       "      <td>C</td>\n",
       "      <td>C</td>\n",
       "      <td>B</td>\n",
       "    </tr>\n",
       "    <tr>\n",
       "      <th>49</th>\n",
       "      <td>STU784</td>\n",
       "      <td>M</td>\n",
       "      <td>25.0</td>\n",
       "      <td>95</td>\n",
       "      <td>Y</td>\n",
       "      <td>NaN</td>\n",
       "      <td>Y</td>\n",
       "      <td>C</td>\n",
       "      <td>NaN</td>\n",
       "      <td>B</td>\n",
       "      <td>A</td>\n",
       "    </tr>\n",
       "    <tr>\n",
       "      <th>50</th>\n",
       "      <td>STU793</td>\n",
       "      <td>F</td>\n",
       "      <td>22.0</td>\n",
       "      <td>85</td>\n",
       "      <td>Y</td>\n",
       "      <td>NaN</td>\n",
       "      <td>Y</td>\n",
       "      <td>C</td>\n",
       "      <td>C</td>\n",
       "      <td>C</td>\n",
       "      <td>C</td>\n",
       "    </tr>\n",
       "    <tr>\n",
       "      <th>53</th>\n",
       "      <td>STU846</td>\n",
       "      <td>M</td>\n",
       "      <td>22.0</td>\n",
       "      <td>85</td>\n",
       "      <td>Y</td>\n",
       "      <td>NaN</td>\n",
       "      <td>Y</td>\n",
       "      <td>B</td>\n",
       "      <td>C</td>\n",
       "      <td>B</td>\n",
       "      <td>C</td>\n",
       "    </tr>\n",
       "    <tr>\n",
       "      <th>55</th>\n",
       "      <td>STU874</td>\n",
       "      <td>M</td>\n",
       "      <td>NaN</td>\n",
       "      <td>78</td>\n",
       "      <td>N</td>\n",
       "      <td>4.0</td>\n",
       "      <td>N</td>\n",
       "      <td>C</td>\n",
       "      <td>C</td>\n",
       "      <td>C</td>\n",
       "      <td>C</td>\n",
       "    </tr>\n",
       "    <tr>\n",
       "      <th>58</th>\n",
       "      <td>STU901</td>\n",
       "      <td>M</td>\n",
       "      <td>NaN</td>\n",
       "      <td>88</td>\n",
       "      <td>Y</td>\n",
       "      <td>6.0</td>\n",
       "      <td>N</td>\n",
       "      <td>B</td>\n",
       "      <td>B</td>\n",
       "      <td>B</td>\n",
       "      <td>B</td>\n",
       "    </tr>\n",
       "    <tr>\n",
       "      <th>59</th>\n",
       "      <td>STU916</td>\n",
       "      <td>M</td>\n",
       "      <td>18.0</td>\n",
       "      <td>80</td>\n",
       "      <td>Y</td>\n",
       "      <td>NaN</td>\n",
       "      <td>N</td>\n",
       "      <td>C</td>\n",
       "      <td>C</td>\n",
       "      <td>C</td>\n",
       "      <td>C</td>\n",
       "    </tr>\n",
       "    <tr>\n",
       "      <th>62</th>\n",
       "      <td>STU934</td>\n",
       "      <td>M</td>\n",
       "      <td>18.0</td>\n",
       "      <td>80</td>\n",
       "      <td>Y</td>\n",
       "      <td>5.0</td>\n",
       "      <td>NaN</td>\n",
       "      <td>C</td>\n",
       "      <td>C</td>\n",
       "      <td>C</td>\n",
       "      <td>C</td>\n",
       "    </tr>\n",
       "    <tr>\n",
       "      <th>63</th>\n",
       "      <td>STU936</td>\n",
       "      <td>M</td>\n",
       "      <td>18.0</td>\n",
       "      <td>80</td>\n",
       "      <td>N</td>\n",
       "      <td>7.0</td>\n",
       "      <td>NaN</td>\n",
       "      <td>D</td>\n",
       "      <td>NaN</td>\n",
       "      <td>D</td>\n",
       "      <td>D</td>\n",
       "    </tr>\n",
       "  </tbody>\n",
       "</table>\n",
       "</div>"
      ],
      "text/plain": [
       "   StudentID Gender  Study_Hours  Attendance Internet_Access  Test_Prep_Hours  \\\n",
       "2     STU138      M         18.0          80               Y              NaN   \n",
       "4     STU173      M         22.0          90               Y              5.0   \n",
       "8     STU267      M         15.0          78             NaN              4.0   \n",
       "11    STU345      F         18.0          80               N              NaN   \n",
       "12    STU362      M         23.0          92               Y              NaN   \n",
       "18    STU436      F         21.0          88               Y              NaN   \n",
       "19    STU436      F          NaN          88             NaN              5.0   \n",
       "20    STU437      F          NaN          75               N              9.0   \n",
       "25    STU517      F          NaN          85               Y              5.0   \n",
       "28    STU549      F         17.0          75               N              4.0   \n",
       "30    STU569      M         16.0          70               Y              NaN   \n",
       "33    STU621      F         24.0          95             NaN              9.0   \n",
       "34    STU624      M         24.0          95             NaN              8.0   \n",
       "35    STU632      M         14.0          75             NaN              6.0   \n",
       "38    STU648      M         26.0          97               Y              9.0   \n",
       "39    STU652      F         20.0          80             NaN              8.0   \n",
       "41    STU676      M         13.0          75               Y              4.0   \n",
       "42    STU693      F          NaN          78             NaN              4.0   \n",
       "45    STU726      F          NaN          92               Y              8.0   \n",
       "49    STU784      M         25.0          95               Y              NaN   \n",
       "50    STU793      F         22.0          85               Y              NaN   \n",
       "53    STU846      M         22.0          85               Y              NaN   \n",
       "55    STU874      M          NaN          78               N              4.0   \n",
       "58    STU901      M          NaN          88               Y              6.0   \n",
       "59    STU916      M         18.0          80               Y              NaN   \n",
       "62    STU934      M         18.0          80               Y              5.0   \n",
       "63    STU936      M         18.0          80               N              7.0   \n",
       "\n",
       "   Extracurriculars Prev_Midterm_Grade Prev_Final_Grade Midterm_Grade  \\\n",
       "2                 N                  C                C             C   \n",
       "4               NaN                  B                C             A   \n",
       "8                 N                  C                D             C   \n",
       "11                N                  D                D             D   \n",
       "12                Y                  D                D             C   \n",
       "18                N                  A                A             A   \n",
       "19                N                  A                A             A   \n",
       "20                Y                  C              NaN             C   \n",
       "25              NaN                  D                C             C   \n",
       "28                N                  C              NaN             C   \n",
       "30                Y                  C                C             C   \n",
       "33                N                  D                D             C   \n",
       "34                N                  B                B             A   \n",
       "35                N                  B                C             B   \n",
       "38                Y                  C              NaN             B   \n",
       "39                N                  D                C             B   \n",
       "41                Y                  C              NaN             C   \n",
       "42                N                  B                B             B   \n",
       "45              NaN                  D                C             C   \n",
       "49                Y                  C              NaN             B   \n",
       "50                Y                  C                C             C   \n",
       "53                Y                  B                C             B   \n",
       "55                N                  C                C             C   \n",
       "58                N                  B                B             B   \n",
       "59                N                  C                C             C   \n",
       "62              NaN                  C                C             C   \n",
       "63              NaN                  D              NaN             D   \n",
       "\n",
       "   Final_Grade  \n",
       "2            C  \n",
       "4            B  \n",
       "8            C  \n",
       "11           D  \n",
       "12           C  \n",
       "18           A  \n",
       "19           A  \n",
       "20           C  \n",
       "25           B  \n",
       "28           C  \n",
       "30           C  \n",
       "33           C  \n",
       "34           A  \n",
       "35           C  \n",
       "38           B  \n",
       "39           C  \n",
       "41           C  \n",
       "42           B  \n",
       "45           B  \n",
       "49           A  \n",
       "50           C  \n",
       "53           C  \n",
       "55           C  \n",
       "58           B  \n",
       "59           C  \n",
       "62           C  \n",
       "63           D  "
      ]
     },
     "execution_count": 13,
     "metadata": {},
     "output_type": "execute_result"
    }
   ],
   "source": [
    "# check if there are any patterns in the missing values\n",
    "df[df.isnull().any(axis=1)]"
   ]
  },
  {
   "cell_type": "markdown",
   "id": "95445742",
   "metadata": {},
   "source": [
    "Replace missing values for Study_Hours with the column mean\n",
    "Replace missing values for Test_Prep_Hours with the column median\n",
    "Replace missing values for Prev_Final_Grade with the column mode\n",
    "Replace missing values for Internet_Access and Extracurriculars with \"N\""
   ]
  },
  {
   "cell_type": "code",
   "execution_count": 15,
   "id": "89fd4f49",
   "metadata": {},
   "outputs": [
    {
     "data": {
      "text/plain": [
       "StudentID             0\n",
       "Gender                0\n",
       "Study_Hours           0\n",
       "Attendance            0\n",
       "Internet_Access       0\n",
       "Test_Prep_Hours       0\n",
       "Extracurriculars      0\n",
       "Prev_Midterm_Grade    0\n",
       "Prev_Final_Grade      0\n",
       "Midterm_Grade         0\n",
       "Final_Grade           0\n",
       "dtype: int64"
      ]
     },
     "execution_count": 15,
     "metadata": {},
     "output_type": "execute_result"
    }
   ],
   "source": [
    "#Replacing values for Study hours with mean\n",
    "df[\"Study_Hours\"] = df[\"Study_Hours\"].fillna(df[\"Study_Hours\"].mean())\n",
    "\n",
    "#Replacing missing values for Test prep Hours with median\n",
    "df[\"Test_Prep_Hours\"] = df[\"Test_Prep_Hours\"].fillna(df[\"Test_Prep_Hours\"].median())\n",
    "\n",
    "#Replacing missing values for Prep Final Grade with mode\n",
    "df[\"Prev_Final_Grade\"] = df[\"Prev_Final_Grade\"].fillna(df[\"Prev_Final_Grade\"].mode().iloc[0])\n",
    "\n",
    "#Replacing missing values for Internet Access and Extracurriculars with \"N\"\n",
    "df[\"Internet_Access\"] = df[\"Internet_Access\"].fillna(\"N\")\n",
    "df[\"Extracurriculars\"] = df[\"Extracurriculars\"].fillna(\"N\")\n",
    "\n",
    "#Checking if all missing values have been replaced.\n",
    "df.isnull().sum()"
   ]
  },
  {
   "cell_type": "markdown",
   "id": "1c1c5b35",
   "metadata": {},
   "source": [
    "# Data Visualization"
   ]
  },
  {
   "cell_type": "markdown",
   "id": "9faa1272",
   "metadata": {},
   "source": [
    "We will use Matplotlib library to create our visualizations."
   ]
  },
  {
   "cell_type": "code",
   "execution_count": 23,
   "id": "bca14e57",
   "metadata": {},
   "outputs": [
    {
     "data": {
      "image/png": "[encoded data removed]",
      "text/plain": [
       "<Figure size 640x480 with 1 Axes>"
      ]
     },
     "metadata": {},
     "output_type": "display_data"
    }
   ],
   "source": [
    "import matplotlib.pyplot as plt\n",
    "\n",
    "#Create a histogram of attendance\n",
    "plt.hist(df[\"Attendance\"], bins = 6, edgecolor = \"black\", color = \"violet\")\n",
    "#Set the label for the X-axis\n",
    "plt.xlabel(\"Attendance(%)\")\n",
    "\n",
    "#Display the plot\n",
    "plt.show()"
   ]
  },
  {
   "cell_type": "code",
   "execution_count": 27,
   "id": "332dcd4d",
   "metadata": {},
   "outputs": [
    {
     "data": {
      "image/png": "[encoded data removed]",
      "text/plain": [
       "<Figure size 640x480 with 1 Axes>"
      ]
     },
     "metadata": {},
     "output_type": "display_data"
    }
   ],
   "source": [
    "#Create a pie chart of internet access\n",
    "counts = df['Internet_Access'].value_counts()\n",
    "plt.pie(counts, labels=counts.index, colors=['orange', 'skyblue'], autopct='%1.1f%%')\n",
    "\n",
    "# Set the title\n",
    "plt.title('Pie Chart of Internet Access Distribution')\n",
    "\n",
    "# Display the plot\n",
    "plt.show()"
   ]
  },
  {
   "cell_type": "code",
   "execution_count": 28,
   "id": "9ebd4632",
   "metadata": {},
   "outputs": [
    {
     "data": {
      "image/png": "[encoded data removed]",
      "text/plain": [
       "<Figure size 640x480 with 1 Axes>"
      ]
     },
     "metadata": {},
     "output_type": "display_data"
    }
   ],
   "source": [
    "#Create a box-and-whisker plot of Study_Hours\n",
    "plt.boxplot(df['Study_Hours'], vert=False)\n",
    "\n",
    "#Add title\n",
    "plt.title('Box-and-Whisker plot of Study Hours')\n",
    "\n",
    "#Display the plot\n",
    "plt.show()"
   ]
  },
  {
   "cell_type": "code",
   "execution_count": 29,
   "id": "7d044a49",
   "metadata": {},
   "outputs": [
    {
     "data": {
      "image/png": "[encoded data removed]",
      "text/plain": [
       "<Figure size 640x480 with 1 Axes>"
      ]
     },
     "metadata": {},
     "output_type": "display_data"
    }
   ],
   "source": [
    "#Create a bar chart of Final_Grade\n",
    "counts = df['Final_Grade'].value_counts()\n",
    "colors = ['lightgreen', 'pink', 'red']\n",
    "counts.plot(kind='bar', color=colors)\n",
    "\n",
    "#Display number of each grade (optional)\n",
    "for i, v in enumerate(counts):\n",
    "    plt.text(i, v, str(v), ha='center', va='bottom')\n",
    "\n",
    "#Rotate the x-axis tick labels\n",
    "plt.xticks(rotation=0)\n",
    "\n",
    "#Set title\n",
    "plt.title('Bar Chart of Final Grades Distribution')\n",
    "\n",
    "#Display the plot\n",
    "plt.show()"
   ]
  },
  {
   "cell_type": "markdown",
   "id": "d37eaa2f",
   "metadata": {},
   "source": [
    "# Data Modelling"
   ]
  },
  {
   "cell_type": "markdown",
   "id": "2f62ddd5",
   "metadata": {},
   "source": [
    "We will apply manual encoding to Gender, one-hot encoding to Internet_Access and Extracurriculars, and label encoding to Prev_Midterm_Grade, Prev_Final_Grade, Midterm_Grade, and Final_Grade.\n",
    "We will drop the StudentID column since it does not really benefit us and we will remove any new duplicated records that might be created as a result."
   ]
  },
  {
   "cell_type": "code",
   "execution_count": 30,
   "id": "a22b9167",
   "metadata": {},
   "outputs": [
    {
     "data": {
      "text/plain": [
       "0    33\n",
       "1    29\n",
       "Name: Gender, dtype: int64"
      ]
     },
     "execution_count": 30,
     "metadata": {},
     "output_type": "execute_result"
    }
   ],
   "source": [
    "#Manually encode Gender column\n",
    "df[\"Gender\"] = df[\"Gender\"].map({\"F\": 1, \"M\": 0})\n",
    "\n",
    "#Confirm that then Gender column has been encoded\n",
    "df[\"Gender\"].value_counts()"
   ]
  },
  {
   "cell_type": "code",
   "execution_count": 35,
   "id": "e7e12f3b",
   "metadata": {},
   "outputs": [
    {
     "data": {
      "text/html": [
       "<div>\n",
       "<style scoped>\n",
       "    .dataframe tbody tr th:only-of-type {\n",
       "        vertical-align: middle;\n",
       "    }\n",
       "\n",
       "    .dataframe tbody tr th {\n",
       "        vertical-align: top;\n",
       "    }\n",
       "\n",
       "    .dataframe thead th {\n",
       "        text-align: right;\n",
       "    }\n",
       "</style>\n",
       "<table border=\"1\" class=\"dataframe\">\n",
       "  <thead>\n",
       "    <tr style=\"text-align: right;\">\n",
       "      <th></th>\n",
       "      <th>Internet_Access</th>\n",
       "      <th>Extracurriculars</th>\n",
       "    </tr>\n",
       "  </thead>\n",
       "  <tbody>\n",
       "    <tr>\n",
       "      <th>0</th>\n",
       "      <td>1.0</td>\n",
       "      <td>0.0</td>\n",
       "    </tr>\n",
       "    <tr>\n",
       "      <th>1</th>\n",
       "      <td>1.0</td>\n",
       "      <td>0.0</td>\n",
       "    </tr>\n",
       "    <tr>\n",
       "      <th>2</th>\n",
       "      <td>1.0</td>\n",
       "      <td>0.0</td>\n",
       "    </tr>\n",
       "    <tr>\n",
       "      <th>3</th>\n",
       "      <td>1.0</td>\n",
       "      <td>0.0</td>\n",
       "    </tr>\n",
       "    <tr>\n",
       "      <th>4</th>\n",
       "      <td>1.0</td>\n",
       "      <td>0.0</td>\n",
       "    </tr>\n",
       "  </tbody>\n",
       "</table>\n",
       "</div>"
      ],
      "text/plain": [
       "   Internet_Access  Extracurriculars\n",
       "0              1.0               0.0\n",
       "1              1.0               0.0\n",
       "2              1.0               0.0\n",
       "3              1.0               0.0\n",
       "4              1.0               0.0"
      ]
     },
     "execution_count": 35,
     "metadata": {},
     "output_type": "execute_result"
    }
   ],
   "source": [
    "#Import one-hot encoder\n",
    "from sklearn.preprocessing import OneHotEncoder\n",
    "\n",
    "#Create an instance of one hot encoder\n",
    "encoder = OneHotEncoder(sparse = False)\n",
    "\n",
    "#Fit and transform the Internet access and extracurriculars\n",
    "df[\"Internet_Access\"] = encoder.fit_transform(df[[\"Internet_Access\"]])\n",
    "df[\"Extracurriculars\"] = encoder.fit_transform(df[[\"Extracurriculars\"]])\n",
    "\n",
    "#Preview the encoded variables\n",
    "df[[\"Internet_Access\", \"Extracurriculars\"]].head()"
   ]
  },
  {
   "cell_type": "code",
   "execution_count": 36,
   "id": "604613b8",
   "metadata": {},
   "outputs": [
    {
     "data": {
      "text/html": [
       "<div>\n",
       "<style scoped>\n",
       "    .dataframe tbody tr th:only-of-type {\n",
       "        vertical-align: middle;\n",
       "    }\n",
       "\n",
       "    .dataframe tbody tr th {\n",
       "        vertical-align: top;\n",
       "    }\n",
       "\n",
       "    .dataframe thead th {\n",
       "        text-align: right;\n",
       "    }\n",
       "</style>\n",
       "<table border=\"1\" class=\"dataframe\">\n",
       "  <thead>\n",
       "    <tr style=\"text-align: right;\">\n",
       "      <th></th>\n",
       "      <th>Prev_Midterm_Grade</th>\n",
       "      <th>Prev_Final_Grade</th>\n",
       "      <th>Midterm_Grade</th>\n",
       "      <th>Final_Grade</th>\n",
       "    </tr>\n",
       "  </thead>\n",
       "  <tbody>\n",
       "    <tr>\n",
       "      <th>0</th>\n",
       "      <td>1</td>\n",
       "      <td>1</td>\n",
       "      <td>1</td>\n",
       "      <td>1</td>\n",
       "    </tr>\n",
       "    <tr>\n",
       "      <th>1</th>\n",
       "      <td>1</td>\n",
       "      <td>2</td>\n",
       "      <td>1</td>\n",
       "      <td>2</td>\n",
       "    </tr>\n",
       "    <tr>\n",
       "      <th>2</th>\n",
       "      <td>2</td>\n",
       "      <td>2</td>\n",
       "      <td>2</td>\n",
       "      <td>2</td>\n",
       "    </tr>\n",
       "    <tr>\n",
       "      <th>3</th>\n",
       "      <td>2</td>\n",
       "      <td>2</td>\n",
       "      <td>2</td>\n",
       "      <td>2</td>\n",
       "    </tr>\n",
       "    <tr>\n",
       "      <th>4</th>\n",
       "      <td>1</td>\n",
       "      <td>2</td>\n",
       "      <td>0</td>\n",
       "      <td>1</td>\n",
       "    </tr>\n",
       "  </tbody>\n",
       "</table>\n",
       "</div>"
      ],
      "text/plain": [
       "   Prev_Midterm_Grade  Prev_Final_Grade  Midterm_Grade  Final_Grade\n",
       "0                   1                 1              1            1\n",
       "1                   1                 2              1            2\n",
       "2                   2                 2              2            2\n",
       "3                   2                 2              2            2\n",
       "4                   1                 2              0            1"
      ]
     },
     "execution_count": 36,
     "metadata": {},
     "output_type": "execute_result"
    }
   ],
   "source": [
    "#Import Label Encoder\n",
    "from sklearn.preprocessing import LabelEncoder\n",
    "le = LabelEncoder()\n",
    "df[\"Prev_Midterm_Grade\"] = le.fit_transform(df[\"Prev_Midterm_Grade\"])\n",
    "df[\"Prev_Final_Grade\"] = le.fit_transform(df[\"Prev_Final_Grade\"])\n",
    "df[\"Midterm_Grade\"] = le.fit_transform(df[\"Midterm_Grade\"])\n",
    "df[\"Final_Grade\"] = le.fit_transform(df[\"Final_Grade\"])\n",
    "\n",
    "#Preview of the encorded variables\n",
    "df[[\"Prev_Midterm_Grade\", \"Prev_Final_Grade\", \"Midterm_Grade\", \"Final_Grade\"]].head()"
   ]
  },
  {
   "cell_type": "code",
   "execution_count": 38,
   "id": "a225c52f",
   "metadata": {},
   "outputs": [
    {
     "data": {
      "text/plain": [
       "(60, 10)"
      ]
     },
     "execution_count": 38,
     "metadata": {},
     "output_type": "execute_result"
    }
   ],
   "source": [
    "#Dropping the Student ID\n",
    "df.drop(\"StudentID\", axis = 1, inplace = True)\n",
    "\n",
    "#Drop duplicates\n",
    "df.drop_duplicates(inplace = True)\n",
    "\n",
    "#Check dataset shape\n",
    "df.shape"
   ]
  },
  {
   "cell_type": "code",
   "execution_count": 39,
   "id": "9ab02370",
   "metadata": {},
   "outputs": [
    {
     "data": {
      "text/plain": [
       "Gender                  int64\n",
       "Study_Hours           float64\n",
       "Attendance              int64\n",
       "Internet_Access       float64\n",
       "Test_Prep_Hours       float64\n",
       "Extracurriculars      float64\n",
       "Prev_Midterm_Grade      int32\n",
       "Prev_Final_Grade        int32\n",
       "Midterm_Grade           int32\n",
       "Final_Grade             int32\n",
       "dtype: object"
      ]
     },
     "execution_count": 39,
     "metadata": {},
     "output_type": "execute_result"
    }
   ],
   "source": [
    "df.dtypes"
   ]
  },
  {
   "cell_type": "markdown",
   "id": "569619ce",
   "metadata": {},
   "source": [
    "Our dataset is now ready for modeling.\n",
    "\n",
    "We will split our dataset into two: the training set (which is used to train the model) and the testing set (which is used to test the model to see whether it has learned well enough to be able to generalize onto unseen data). By convention, we split them 80-20, that is, 80% of the data becomes the training set and the remaining 20% becomes the test set, but this can change depending on your requirements."
   ]
  },
  {
   "cell_type": "code",
   "execution_count": 41,
   "id": "ea209c35",
   "metadata": {},
   "outputs": [
    {
     "data": {
      "text/plain": [
       "((48, 9), (48,), (12, 9), (12,))"
      ]
     },
     "execution_count": 41,
     "metadata": {},
     "output_type": "execute_result"
    }
   ],
   "source": [
    "from sklearn.model_selection import train_test_split\n",
    "\n",
    "#Extracting our X and y\n",
    "X = df.drop(columns=['Final_Grade'], axis=1)\n",
    "y = df['Final_Grade']\n",
    "\n",
    "#Splitting our data into train and test\n",
    "X_train, X_test, y_train, y_test = train_test_split(X, y, test_size = 0.2, random_state = 42)\n",
    "X_train.shape, y_train.shape, X_test.shape, y_test.shape"
   ]
  },
  {
   "cell_type": "markdown",
   "id": "2fa4e6fc",
   "metadata": {},
   "source": [
    "Applying classification algorithms"
   ]
  },
  {
   "cell_type": "code",
   "execution_count": 42,
   "id": "9433a102",
   "metadata": {},
   "outputs": [
    {
     "name": "stderr",
     "output_type": "stream",
     "text": [
      "C:\\Users\\Faith\\anaconda3\\lib\\site-packages\\sklearn\\linear_model\\_logistic.py:814: ConvergenceWarning: lbfgs failed to converge (status=1):\n",
      "STOP: TOTAL NO. of ITERATIONS REACHED LIMIT.\n",
      "\n",
      "Increase the number of iterations (max_iter) or scale the data as shown in:\n",
      "    https://scikit-learn.org/stable/modules/preprocessing.html\n",
      "Please also refer to the documentation for alternative solver options:\n",
      "    https://scikit-learn.org/stable/modules/linear_model.html#logistic-regression\n",
      "  n_iter_i = _check_optimize_result(\n"
     ]
    }
   ],
   "source": [
    "#Import Logistic Regression\n",
    "from sklearn.linear_model import LogisticRegression\n",
    "\n",
    "#Create an instance of LogisticRegression\n",
    "logreg = LogisticRegression()\n",
    "\n",
    "#Fit the logistic regression model\n",
    "logreg.fit(X_train, y_train)\n",
    "\n",
    "#Predict on the test set\n",
    "y_pred = logreg.predict(X_test)"
   ]
  },
  {
   "cell_type": "code",
   "execution_count": 44,
   "id": "e027dcaf",
   "metadata": {},
   "outputs": [
    {
     "name": "stdout",
     "output_type": "stream",
     "text": [
      "Accuracy: 0.75\n"
     ]
    }
   ],
   "source": [
    "#Confusion matrix and accuracy score\n",
    "#Import libraries\n",
    "from sklearn.metrics import accuracy_score\n",
    "from sklearn.metrics import confusion_matrix\n",
    "\n",
    "#Calculate accuracy\n",
    "accuracy = accuracy_score(y_test, y_pred)\n",
    "print(\"Accuracy:\", accuracy)\n",
    "\n",
    "#Create confusion matrix\n",
    "cm = confusion_matrix(y_test, y_pred)"
   ]
  },
  {
   "cell_type": "markdown",
   "id": "9a0a7f01",
   "metadata": {},
   "source": [
    "Our model accuracy is at 75%."
   ]
  },
  {
   "cell_type": "code",
   "execution_count": 48,
   "id": "8fef49db",
   "metadata": {},
   "outputs": [
    {
     "name": "stdout",
     "output_type": "stream",
     "text": [
      "[1 0 1 0 2 0 2 2 2 2 2 2]\n"
     ]
    },
    {
     "name": "stderr",
     "output_type": "stream",
     "text": [
      "C:\\Users\\Faith\\anaconda3\\lib\\site-packages\\sklearn\\neighbors\\_classification.py:228: FutureWarning: Unlike other reduction functions (e.g. `skew`, `kurtosis`), the default behavior of `mode` typically preserves the axis it acts along. In SciPy 1.11.0, this behavior will change: the default value of `keepdims` will become False, the `axis` over which the statistic is taken will be eliminated, and the value None will no longer be accepted. Set `keepdims` to True or False to avoid this warning.\n",
      "  mode, _ = stats.mode(_y[neigh_ind, k], axis=1)\n"
     ]
    }
   ],
   "source": [
    "#Using K-Nearest Neighbors\n",
    "\n",
    "from sklearn.neighbors import KNeighborsClassifier\n",
    "knn = KNeighborsClassifier(n_neighbors = 3)\n",
    "\n",
    "#Train the classifier\n",
    "knn.fit(X_train, y_train)\n",
    "\n",
    "#Make predictions on the test\n",
    "pred = knn.predict(X_test)\n",
    "\n",
    "print(pred)"
   ]
  },
  {
   "cell_type": "code",
   "execution_count": null,
   "id": "0a1eefc2",
   "metadata": {},
   "outputs": [],
   "source": []
  }
 ],
 "metadata": {
  "kernelspec": {
   "display_name": "Python 3 (ipykernel)",
   "language": "python",
   "name": "python3"
  },
  "language_info": {
   "codemirror_mode": {
    "name": "ipython",
    "version": 3
   },
   "file_extension": ".py",
   "mimetype": "text/x-python",
   "name": "python",
   "nbconvert_exporter": "python",
   "pygments_lexer": "ipython3",
   "version": "3.9.13"
  }
 },
 "nbformat": 4,
 "nbformat_minor": 5
}
